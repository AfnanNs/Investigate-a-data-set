{
 "cells": [
  {
   "cell_type": "markdown",
   "id": "64b89968",
   "metadata": {},
   "source": [
    "# Investigate a Dataset Medical Appointment No Show "
   ]
  },
  {
   "cell_type": "markdown",
   "id": "9e91caf7",
   "metadata": {},
   "source": [
    "## Table of contents : \n",
    "\n",
    "*  [Introduction](#Introduction) \n",
    "\n",
    "* [Data Wrangling](#Data-Wrangling)\n",
    "\n",
    "* [Exploratory Data Analysis](#Exploratory-Data-Analysis)\n",
    "\n",
    "* [Conclusion](#Conclusion)"
   ]
  },
  {
   "cell_type": "markdown",
   "id": "faf15d30",
   "metadata": {},
   "source": [
    "\n",
    "# Introduction <a id=\"#Introduction\"></a> \n",
    "\n",
    "why the patients miss their scheduled appointment?\n",
    "\n",
    "The dataset collects information from 100k medical appointments in Brazil and is focused on the question of whether or not patients show up for their appointment.\n",
    "\n",
    "Having this data set to infestigate the dataset towards a meaningful insights regrading the attending isuue of each medical appointment.\n",
    "\n",
    "There are a few important quetions that would help through addressing this issue.\n",
    "\n",
    "## Questions :\n",
    "\n",
    "1. What is the proportion of the appoinments that the patients show up vs. no-show? \n",
    "\n",
    "2. Is the age of the patients relate to the propbabilty of No Show?\n",
    "\n",
    "3. Do most of the patient that have a scholarship are more likely to show up?\n",
    "\n",
    "4. Do most of the patient that didn’t show to their appointments didn’t receives a SMS message?\n"
   ]
  },
  {
   "cell_type": "markdown",
   "id": "f4475367",
   "metadata": {},
   "source": [
    "## Load the pacakages and the dataset "
   ]
  },
  {
   "cell_type": "code",
   "execution_count": 51,
   "id": "17e94d22",
   "metadata": {},
   "outputs": [],
   "source": [
    "import pandas as pd # import the needed pacakages \n",
    "import numpy as np\n",
    "import matplotlib.pyplot as plt\n",
    "import seaborn as sns\n",
    "%matplotlib inline\n",
    "plt.style.use('seaborn')\n",
    "\n",
    "df = pd.read_csv('C:\\\\Users\\\\Afnan\\\\.jupyter\\\\Noshow_appointment.csv') # load the dataset "
   ]
  },
  {
   "cell_type": "markdown",
   "id": "7a36769b",
   "metadata": {},
   "source": [
    "# Data Wrangling <a id=\"Data-Wrangling\"></a>\n",
    "\n",
    "In this section, I am trying to wrangle the data by the data type, missing values, repetitive rows to answer my qusetions effectively. "
   ]
  },
  {
   "cell_type": "code",
   "execution_count": 52,
   "id": "6bfbb54a",
   "metadata": {},
   "outputs": [
    {
     "name": "stdout",
     "output_type": "stream",
     "text": [
      "<class 'pandas.core.frame.DataFrame'>\n",
      "RangeIndex: 110527 entries, 0 to 110526\n",
      "Data columns (total 14 columns):\n",
      " #   Column          Non-Null Count   Dtype  \n",
      "---  ------          --------------   -----  \n",
      " 0   PatientId       110527 non-null  float64\n",
      " 1   AppointmentID   110527 non-null  int64  \n",
      " 2   Gender          110527 non-null  object \n",
      " 3   ScheduledDay    110527 non-null  object \n",
      " 4   AppointmentDay  110527 non-null  object \n",
      " 5   Age             110527 non-null  int64  \n",
      " 6   Neighbourhood   110527 non-null  object \n",
      " 7   Scholarship     110527 non-null  int64  \n",
      " 8   Hipertension    110527 non-null  int64  \n",
      " 9   Diabetes        110527 non-null  int64  \n",
      " 10  Alcoholism      110527 non-null  int64  \n",
      " 11  Handcap         110527 non-null  int64  \n",
      " 12  SMS_received    110527 non-null  int64  \n",
      " 13  No-show         110527 non-null  object \n",
      "dtypes: float64(1), int64(8), object(5)\n",
      "memory usage: 11.8+ MB\n"
     ]
    }
   ],
   "source": [
    "df.info() # seems that there is no missing data "
   ]
  },
  {
   "cell_type": "code",
   "execution_count": 53,
   "id": "c13626c5",
   "metadata": {},
   "outputs": [
    {
     "data": {
      "text/html": [
       "<div>\n",
       "<style scoped>\n",
       "    .dataframe tbody tr th:only-of-type {\n",
       "        vertical-align: middle;\n",
       "    }\n",
       "\n",
       "    .dataframe tbody tr th {\n",
       "        vertical-align: top;\n",
       "    }\n",
       "\n",
       "    .dataframe thead th {\n",
       "        text-align: right;\n",
       "    }\n",
       "</style>\n",
       "<table border=\"1\" class=\"dataframe\">\n",
       "  <thead>\n",
       "    <tr style=\"text-align: right;\">\n",
       "      <th></th>\n",
       "      <th>PatientId</th>\n",
       "      <th>AppointmentID</th>\n",
       "      <th>Gender</th>\n",
       "      <th>ScheduledDay</th>\n",
       "      <th>AppointmentDay</th>\n",
       "      <th>Age</th>\n",
       "      <th>Neighbourhood</th>\n",
       "      <th>Scholarship</th>\n",
       "      <th>Hipertension</th>\n",
       "      <th>Diabetes</th>\n",
       "      <th>Alcoholism</th>\n",
       "      <th>Handcap</th>\n",
       "      <th>SMS_received</th>\n",
       "      <th>No-show</th>\n",
       "    </tr>\n",
       "  </thead>\n",
       "  <tbody>\n",
       "    <tr>\n",
       "      <th>0</th>\n",
       "      <td>2.987250e+13</td>\n",
       "      <td>5642903</td>\n",
       "      <td>F</td>\n",
       "      <td>2016-04-29T18:38:08Z</td>\n",
       "      <td>2016-04-29T00:00:00Z</td>\n",
       "      <td>62</td>\n",
       "      <td>JARDIM DA PENHA</td>\n",
       "      <td>0</td>\n",
       "      <td>1</td>\n",
       "      <td>0</td>\n",
       "      <td>0</td>\n",
       "      <td>0</td>\n",
       "      <td>0</td>\n",
       "      <td>No</td>\n",
       "    </tr>\n",
       "    <tr>\n",
       "      <th>1</th>\n",
       "      <td>5.589980e+14</td>\n",
       "      <td>5642503</td>\n",
       "      <td>M</td>\n",
       "      <td>2016-04-29T16:08:27Z</td>\n",
       "      <td>2016-04-29T00:00:00Z</td>\n",
       "      <td>56</td>\n",
       "      <td>JARDIM DA PENHA</td>\n",
       "      <td>0</td>\n",
       "      <td>0</td>\n",
       "      <td>0</td>\n",
       "      <td>0</td>\n",
       "      <td>0</td>\n",
       "      <td>0</td>\n",
       "      <td>No</td>\n",
       "    </tr>\n",
       "    <tr>\n",
       "      <th>2</th>\n",
       "      <td>4.262960e+12</td>\n",
       "      <td>5642549</td>\n",
       "      <td>F</td>\n",
       "      <td>2016-04-29T16:19:04Z</td>\n",
       "      <td>2016-04-29T00:00:00Z</td>\n",
       "      <td>62</td>\n",
       "      <td>MATA DA PRAIA</td>\n",
       "      <td>0</td>\n",
       "      <td>0</td>\n",
       "      <td>0</td>\n",
       "      <td>0</td>\n",
       "      <td>0</td>\n",
       "      <td>0</td>\n",
       "      <td>No</td>\n",
       "    </tr>\n",
       "    <tr>\n",
       "      <th>3</th>\n",
       "      <td>8.679510e+11</td>\n",
       "      <td>5642828</td>\n",
       "      <td>F</td>\n",
       "      <td>2016-04-29T17:29:31Z</td>\n",
       "      <td>2016-04-29T00:00:00Z</td>\n",
       "      <td>8</td>\n",
       "      <td>PONTAL DE CAMBURI</td>\n",
       "      <td>0</td>\n",
       "      <td>0</td>\n",
       "      <td>0</td>\n",
       "      <td>0</td>\n",
       "      <td>0</td>\n",
       "      <td>0</td>\n",
       "      <td>No</td>\n",
       "    </tr>\n",
       "    <tr>\n",
       "      <th>4</th>\n",
       "      <td>8.841190e+12</td>\n",
       "      <td>5642494</td>\n",
       "      <td>F</td>\n",
       "      <td>2016-04-29T16:07:23Z</td>\n",
       "      <td>2016-04-29T00:00:00Z</td>\n",
       "      <td>56</td>\n",
       "      <td>JARDIM DA PENHA</td>\n",
       "      <td>0</td>\n",
       "      <td>1</td>\n",
       "      <td>1</td>\n",
       "      <td>0</td>\n",
       "      <td>0</td>\n",
       "      <td>0</td>\n",
       "      <td>No</td>\n",
       "    </tr>\n",
       "  </tbody>\n",
       "</table>\n",
       "</div>"
      ],
      "text/plain": [
       "      PatientId  AppointmentID Gender          ScheduledDay  \\\n",
       "0  2.987250e+13        5642903      F  2016-04-29T18:38:08Z   \n",
       "1  5.589980e+14        5642503      M  2016-04-29T16:08:27Z   \n",
       "2  4.262960e+12        5642549      F  2016-04-29T16:19:04Z   \n",
       "3  8.679510e+11        5642828      F  2016-04-29T17:29:31Z   \n",
       "4  8.841190e+12        5642494      F  2016-04-29T16:07:23Z   \n",
       "\n",
       "         AppointmentDay  Age      Neighbourhood  Scholarship  Hipertension  \\\n",
       "0  2016-04-29T00:00:00Z   62    JARDIM DA PENHA            0             1   \n",
       "1  2016-04-29T00:00:00Z   56    JARDIM DA PENHA            0             0   \n",
       "2  2016-04-29T00:00:00Z   62      MATA DA PRAIA            0             0   \n",
       "3  2016-04-29T00:00:00Z    8  PONTAL DE CAMBURI            0             0   \n",
       "4  2016-04-29T00:00:00Z   56    JARDIM DA PENHA            0             1   \n",
       "\n",
       "   Diabetes  Alcoholism  Handcap  SMS_received No-show  \n",
       "0         0           0        0             0      No  \n",
       "1         0           0        0             0      No  \n",
       "2         0           0        0             0      No  \n",
       "3         0           0        0             0      No  \n",
       "4         1           0        0             0      No  "
      ]
     },
     "execution_count": 53,
     "metadata": {},
     "output_type": "execute_result"
    }
   ],
   "source": [
    "df.head() # the data set is in a good structure "
   ]
  },
  {
   "cell_type": "code",
   "execution_count": 54,
   "id": "1cbfee70",
   "metadata": {},
   "outputs": [
    {
     "data": {
      "text/plain": [
       "0"
      ]
     },
     "execution_count": 54,
     "metadata": {},
     "output_type": "execute_result"
    }
   ],
   "source": [
    "sum(df.duplicated()) # there is no dupilcated rows "
   ]
  },
  {
   "cell_type": "code",
   "execution_count": 55,
   "id": "1e09f880",
   "metadata": {},
   "outputs": [
    {
     "data": {
      "text/html": [
       "<div>\n",
       "<style scoped>\n",
       "    .dataframe tbody tr th:only-of-type {\n",
       "        vertical-align: middle;\n",
       "    }\n",
       "\n",
       "    .dataframe tbody tr th {\n",
       "        vertical-align: top;\n",
       "    }\n",
       "\n",
       "    .dataframe thead th {\n",
       "        text-align: right;\n",
       "    }\n",
       "</style>\n",
       "<table border=\"1\" class=\"dataframe\">\n",
       "  <thead>\n",
       "    <tr style=\"text-align: right;\">\n",
       "      <th></th>\n",
       "      <th>PatientId</th>\n",
       "      <th>AppointmentID</th>\n",
       "      <th>Age</th>\n",
       "      <th>Scholarship</th>\n",
       "      <th>Hipertension</th>\n",
       "      <th>Diabetes</th>\n",
       "      <th>Alcoholism</th>\n",
       "      <th>Handcap</th>\n",
       "      <th>SMS_received</th>\n",
       "    </tr>\n",
       "  </thead>\n",
       "  <tbody>\n",
       "    <tr>\n",
       "      <th>count</th>\n",
       "      <td>1.105270e+05</td>\n",
       "      <td>1.105270e+05</td>\n",
       "      <td>110527.000000</td>\n",
       "      <td>110527.000000</td>\n",
       "      <td>110527.000000</td>\n",
       "      <td>110527.000000</td>\n",
       "      <td>110527.000000</td>\n",
       "      <td>110527.000000</td>\n",
       "      <td>110527.000000</td>\n",
       "    </tr>\n",
       "    <tr>\n",
       "      <th>mean</th>\n",
       "      <td>1.474963e+14</td>\n",
       "      <td>5.675305e+06</td>\n",
       "      <td>37.088874</td>\n",
       "      <td>0.098266</td>\n",
       "      <td>0.197246</td>\n",
       "      <td>0.071865</td>\n",
       "      <td>0.030400</td>\n",
       "      <td>0.022248</td>\n",
       "      <td>0.321026</td>\n",
       "    </tr>\n",
       "    <tr>\n",
       "      <th>std</th>\n",
       "      <td>2.560949e+14</td>\n",
       "      <td>7.129575e+04</td>\n",
       "      <td>23.110205</td>\n",
       "      <td>0.297675</td>\n",
       "      <td>0.397921</td>\n",
       "      <td>0.258265</td>\n",
       "      <td>0.171686</td>\n",
       "      <td>0.161543</td>\n",
       "      <td>0.466873</td>\n",
       "    </tr>\n",
       "    <tr>\n",
       "      <th>min</th>\n",
       "      <td>3.920000e+04</td>\n",
       "      <td>5.030230e+06</td>\n",
       "      <td>-1.000000</td>\n",
       "      <td>0.000000</td>\n",
       "      <td>0.000000</td>\n",
       "      <td>0.000000</td>\n",
       "      <td>0.000000</td>\n",
       "      <td>0.000000</td>\n",
       "      <td>0.000000</td>\n",
       "    </tr>\n",
       "    <tr>\n",
       "      <th>25%</th>\n",
       "      <td>4.172615e+12</td>\n",
       "      <td>5.640286e+06</td>\n",
       "      <td>18.000000</td>\n",
       "      <td>0.000000</td>\n",
       "      <td>0.000000</td>\n",
       "      <td>0.000000</td>\n",
       "      <td>0.000000</td>\n",
       "      <td>0.000000</td>\n",
       "      <td>0.000000</td>\n",
       "    </tr>\n",
       "    <tr>\n",
       "      <th>50%</th>\n",
       "      <td>3.173180e+13</td>\n",
       "      <td>5.680573e+06</td>\n",
       "      <td>37.000000</td>\n",
       "      <td>0.000000</td>\n",
       "      <td>0.000000</td>\n",
       "      <td>0.000000</td>\n",
       "      <td>0.000000</td>\n",
       "      <td>0.000000</td>\n",
       "      <td>0.000000</td>\n",
       "    </tr>\n",
       "    <tr>\n",
       "      <th>75%</th>\n",
       "      <td>9.439170e+13</td>\n",
       "      <td>5.725524e+06</td>\n",
       "      <td>55.000000</td>\n",
       "      <td>0.000000</td>\n",
       "      <td>0.000000</td>\n",
       "      <td>0.000000</td>\n",
       "      <td>0.000000</td>\n",
       "      <td>0.000000</td>\n",
       "      <td>1.000000</td>\n",
       "    </tr>\n",
       "    <tr>\n",
       "      <th>max</th>\n",
       "      <td>9.999820e+14</td>\n",
       "      <td>5.790484e+06</td>\n",
       "      <td>115.000000</td>\n",
       "      <td>1.000000</td>\n",
       "      <td>1.000000</td>\n",
       "      <td>1.000000</td>\n",
       "      <td>1.000000</td>\n",
       "      <td>4.000000</td>\n",
       "      <td>1.000000</td>\n",
       "    </tr>\n",
       "  </tbody>\n",
       "</table>\n",
       "</div>"
      ],
      "text/plain": [
       "          PatientId  AppointmentID            Age    Scholarship  \\\n",
       "count  1.105270e+05   1.105270e+05  110527.000000  110527.000000   \n",
       "mean   1.474963e+14   5.675305e+06      37.088874       0.098266   \n",
       "std    2.560949e+14   7.129575e+04      23.110205       0.297675   \n",
       "min    3.920000e+04   5.030230e+06      -1.000000       0.000000   \n",
       "25%    4.172615e+12   5.640286e+06      18.000000       0.000000   \n",
       "50%    3.173180e+13   5.680573e+06      37.000000       0.000000   \n",
       "75%    9.439170e+13   5.725524e+06      55.000000       0.000000   \n",
       "max    9.999820e+14   5.790484e+06     115.000000       1.000000   \n",
       "\n",
       "        Hipertension       Diabetes     Alcoholism        Handcap  \\\n",
       "count  110527.000000  110527.000000  110527.000000  110527.000000   \n",
       "mean        0.197246       0.071865       0.030400       0.022248   \n",
       "std         0.397921       0.258265       0.171686       0.161543   \n",
       "min         0.000000       0.000000       0.000000       0.000000   \n",
       "25%         0.000000       0.000000       0.000000       0.000000   \n",
       "50%         0.000000       0.000000       0.000000       0.000000   \n",
       "75%         0.000000       0.000000       0.000000       0.000000   \n",
       "max         1.000000       1.000000       1.000000       4.000000   \n",
       "\n",
       "        SMS_received  \n",
       "count  110527.000000  \n",
       "mean        0.321026  \n",
       "std         0.466873  \n",
       "min         0.000000  \n",
       "25%         0.000000  \n",
       "50%         0.000000  \n",
       "75%         1.000000  \n",
       "max         1.000000  "
      ]
     },
     "execution_count": 55,
     "metadata": {},
     "output_type": "execute_result"
    }
   ],
   "source": [
    "df.describe() "
   ]
  },
  {
   "cell_type": "markdown",
   "id": "42143023",
   "metadata": {},
   "source": [
    "As, shown from the table there is (-1) Age which is a uncorrect information, but before we need to know how much of these exist\n",
    "then we drop the rows.    "
   ]
  },
  {
   "cell_type": "code",
   "execution_count": 56,
   "id": "7e3fe832",
   "metadata": {},
   "outputs": [
    {
     "data": {
      "text/html": [
       "<div>\n",
       "<style scoped>\n",
       "    .dataframe tbody tr th:only-of-type {\n",
       "        vertical-align: middle;\n",
       "    }\n",
       "\n",
       "    .dataframe tbody tr th {\n",
       "        vertical-align: top;\n",
       "    }\n",
       "\n",
       "    .dataframe thead th {\n",
       "        text-align: right;\n",
       "    }\n",
       "</style>\n",
       "<table border=\"1\" class=\"dataframe\">\n",
       "  <thead>\n",
       "    <tr style=\"text-align: right;\">\n",
       "      <th></th>\n",
       "      <th>PatientId</th>\n",
       "      <th>AppointmentID</th>\n",
       "      <th>Gender</th>\n",
       "      <th>ScheduledDay</th>\n",
       "      <th>AppointmentDay</th>\n",
       "      <th>Age</th>\n",
       "      <th>Neighbourhood</th>\n",
       "      <th>Scholarship</th>\n",
       "      <th>Hipertension</th>\n",
       "      <th>Diabetes</th>\n",
       "      <th>Alcoholism</th>\n",
       "      <th>Handcap</th>\n",
       "      <th>SMS_received</th>\n",
       "      <th>No-show</th>\n",
       "    </tr>\n",
       "  </thead>\n",
       "  <tbody>\n",
       "    <tr>\n",
       "      <th>99832</th>\n",
       "      <td>4.659430e+14</td>\n",
       "      <td>5775010</td>\n",
       "      <td>F</td>\n",
       "      <td>2016-06-06T08:58:13Z</td>\n",
       "      <td>2016-06-06T00:00:00Z</td>\n",
       "      <td>-1</td>\n",
       "      <td>ROMÃO</td>\n",
       "      <td>0</td>\n",
       "      <td>0</td>\n",
       "      <td>0</td>\n",
       "      <td>0</td>\n",
       "      <td>0</td>\n",
       "      <td>0</td>\n",
       "      <td>No</td>\n",
       "    </tr>\n",
       "  </tbody>\n",
       "</table>\n",
       "</div>"
      ],
      "text/plain": [
       "          PatientId  AppointmentID Gender          ScheduledDay  \\\n",
       "99832  4.659430e+14        5775010      F  2016-06-06T08:58:13Z   \n",
       "\n",
       "             AppointmentDay  Age Neighbourhood  Scholarship  Hipertension  \\\n",
       "99832  2016-06-06T00:00:00Z   -1         ROMÃO            0             0   \n",
       "\n",
       "       Diabetes  Alcoholism  Handcap  SMS_received No-show  \n",
       "99832         0           0        0             0      No  "
      ]
     },
     "execution_count": 56,
     "metadata": {},
     "output_type": "execute_result"
    }
   ],
   "source": [
    "df[df['Age'] == -1 ] # there is only one row with -1 age "
   ]
  },
  {
   "cell_type": "code",
   "execution_count": 57,
   "id": "36a332b6",
   "metadata": {},
   "outputs": [],
   "source": [
    "df.drop([99832], axis= 0, inplace = True) #drop the row with -1 age value "
   ]
  },
  {
   "cell_type": "markdown",
   "id": "ea76b88a",
   "metadata": {},
   "source": [
    "As we can see, there is no problem with the sturcture of the dataset.Also, by now there is no issues with the data. "
   ]
  },
  {
   "cell_type": "markdown",
   "id": "b9befb5b",
   "metadata": {},
   "source": [
    "# Exploratory Data Analysis <a id=\"Exploratory-Data-Analysis\"></a>"
   ]
  },
  {
   "cell_type": "markdown",
   "id": "84fe9f51",
   "metadata": {},
   "source": [
    "First, I would create a needed function to avoid repetitive code "
   ]
  },
  {
   "cell_type": "code",
   "execution_count": 88,
   "id": "e1e24816",
   "metadata": {},
   "outputs": [],
   "source": [
    "def bar_chart(x, y, col, title, xlabel , ylabel):\n",
    "    plt.bar(x,y,alpha=0.7,color=col);\n",
    "    plt.title(title);\n",
    "    plt.xlabel(xlabel);\n",
    "    plt.ylabel(ylabel);\n",
    "    \n",
    "    return plt.show();"
   ]
  },
  {
   "cell_type": "markdown",
   "id": "e7530975",
   "metadata": {},
   "source": [
    "### 1. What is the proportion of the appoinments that the patients show up vs. no-show? "
   ]
  },
  {
   "cell_type": "code",
   "execution_count": 66,
   "id": "fa91b185",
   "metadata": {},
   "outputs": [
    {
     "data": {
      "image/png": "[encoded data removed]",
      "text/plain": [
       "<Figure size 576x396 with 1 Axes>"
      ]
     },
     "metadata": {},
     "output_type": "display_data"
    }
   ],
   "source": [
    "df_no = df.query('`No-show` == \"Yes\"') # Dataset copy for the no-show\n",
    "df_show = df.query('`No-show` == \"No\"') # Dataset copy for the show\n",
    "\n",
    "show_part = df_show.groupby('No-show')['AppointmentID'].count().sum()\n",
    "no_show_part = df_no.groupby('No-show')['AppointmentID'].count().sum()\n",
    "total = df.groupby('No-show')['AppointmentID'].count().sum()\n",
    " \n",
    "show_prop =  show_part / total # show proportion\n",
    "noshow_prop = no_show_part / total # no show proportion\n",
    "\n",
    "labels = ['show patient' , 'No show patient']\n",
    "colors = ['lightblue','pink']\n",
    "\n",
    "plt.pie([show_prop, noshow_prop], labels= labels, colors= colors, shadow=True, autopct='%1.1f%%');\n",
    "plt.title(\"proportion of the Appointment show up vs. no show\");"
   ]
  },
  {
   "cell_type": "markdown",
   "id": "b395aaf5",
   "metadata": {},
   "source": [
    "As it shown from the pie chart above that 20.2% of all the appointments that the patient didnt show up. "
   ]
  },
  {
   "cell_type": "markdown",
   "id": "52c64589",
   "metadata": {},
   "source": [
    "\n",
    "### 2- Is the age of the patients relate to the propbabilty of No Show?\n"
   ]
  },
  {
   "cell_type": "code",
   "execution_count": 69,
   "id": "f7375d22",
   "metadata": {},
   "outputs": [],
   "source": [
    "bin_edges = [0,10,20 ,30 ,40 ,50 ,60 ,70 ,80 ,90 ,100]\n",
    "age_group = ['0-10','10-20','20-30','30-40','40-50','50-60','60-70','70-80','80-90','90+']\n",
    "\n",
    "df['Age_group']= pd.cut(df['Age'], bin_edges, labels=age_group) \n",
    "\n",
    "width = 0.30  # the width of the bar\n",
    "\n",
    "an_sum = df_no.groupby('Age_group')['AppointmentID'].count().sum()\n",
    "as_sum = df_show.groupby('Age_group')['AppointmentID'].count().sum()\n",
    "\n",
    "behalf_non = df_no.groupby('Age_group')['AppointmentID'].count()\n",
    "behalf_shown = df_show.groupby('Age_group')['AppointmentID'].count()\n",
    "\n",
    "chart_non = behalf_non / an_sum\n",
    "chart_shown = behalf_shown / as_sum"
   ]
  },
  {
   "cell_type": "code",
   "execution_count": 70,
   "id": "c60a2ebe",
   "metadata": {},
   "outputs": [
    {
     "data": {
      "image/png": "[encoded data removed]",
      "text/plain": [
       "<Figure size 720x432 with 1 Axes>"
      ]
     },
     "metadata": {},
     "output_type": "display_data"
    }
   ],
   "source": [
    "ind = np.arange(len(chart_non))  # the x locations for the groups\n",
    "\n",
    "plt.figure(figsize=(10,6))\n",
    "\n",
    "first_non = plt.bar(ind, chart_non, width, color='r', alpha=.7, label='Non-shown')\n",
    "sec_shown = plt.bar(ind + width, chart_shown, width, color='g', alpha=.7, label='show up')\n",
    "\n",
    "\n",
    "plt.title('No Show proption by Age Group')\n",
    "plt.xlabel('Age Group')\n",
    "plt.ylabel('Show proprtion')\n",
    "loc = ind + width / 2  # xtick location\n",
    "plt.xticks(loc,age_group)\n",
    "\n",
    "plt.legend();\n",
    "plt.show()"
   ]
  },
  {
   "cell_type": "markdown",
   "id": "92cf8f29",
   "metadata": {},
   "source": [
    "The bar chart above shows the show and non-show proportion for each age group.Some of the ages groups more likely to not show more than other ages groups."
   ]
  },
  {
   "cell_type": "markdown",
   "id": "eb5280c3",
   "metadata": {},
   "source": [
    "\n",
    "\n",
    "### 3- Do most of the patient that have a scholarship are more likely to show up?\n"
   ]
  },
  {
   "cell_type": "code",
   "execution_count": 86,
   "id": "d39b4ba4",
   "metadata": {},
   "outputs": [
    {
     "data": {
      "image/png": "[encoded data removed]",
      "text/plain": [
       "<Figure size 576x396 with 1 Axes>"
      ]
     },
     "metadata": {},
     "output_type": "display_data"
    }
   ],
   "source": [
    "## Scholarship\n",
    "total = df_no['AppointmentID'].count() # total number of appointment with a no-show state\n",
    "total_s = df.query('Scholarship == 1')['PatientId'].count()\n",
    "total_no = df.query('Scholarship == 0')['PatientId'].count() \n",
    "\n",
    "app_sch = df_no.query('Scholarship == 1')['PatientId'].count() # number of appointment that the patients have scholorship  \n",
    "app_non = df_no.query('Scholarship == 0')['PatientId'].count()  # number of appointment that the patients dont have scholorship \n",
    "\n",
    "prop_sch = app_sch / total_s\n",
    "prop_non = app_non / total_no\n",
    "\n",
    "\n",
    "xis = ['Patients with Scholarship','Patient with No Scholarship']\n",
    "S_colors = ['purple','brown']\n",
    "\n",
    "bar_chart(xis, [prop_sch,prop_non], S_colors, 'No-show by the Patients Scholarship', 'patient Scholarship', \"No-show proportion\");"
   ]
  },
  {
   "cell_type": "markdown",
   "id": "39f05666",
   "metadata": {},
   "source": [
    "As it shown from the bar chart that the patients with Scholarship are more likely to not show in the appoinment more than the non-scholarship patients but,also there is no big difference between them."
   ]
  },
  {
   "cell_type": "markdown",
   "id": "73fee22c",
   "metadata": {},
   "source": [
    "\n",
    "\n",
    "### 4-\tDo most of the patient that didn’t show to their appointments didn’t receives a SMS message?\n"
   ]
  },
  {
   "cell_type": "code",
   "execution_count": 72,
   "id": "57854aaf",
   "metadata": {},
   "outputs": [],
   "source": [
    "r_sms = df_no.query('SMS_received == 1')['AppointmentID'].count() # number of appointments that the patient recieved a SMS \n",
    "n_sms = df_no.query('SMS_received == 0')['AppointmentID'].count() # number of appointments that the patient didnt recieved a SMS"
   ]
  },
  {
   "cell_type": "code",
   "execution_count": 74,
   "id": "572996f1",
   "metadata": {},
   "outputs": [],
   "source": [
    "total = df_no['AppointmentID'].count() # total number of appointment \n",
    "\n",
    "prop_rec = r_sms/ total \n",
    "prop_not = n_sms/ total"
   ]
  },
  {
   "cell_type": "code",
   "execution_count": 87,
   "id": "4c3a875f",
   "metadata": {
    "scrolled": true
   },
   "outputs": [
    {
     "data": {
      "image/png": "[encoded data removed]",
      "text/plain": [
       "<Figure size 576x396 with 1 Axes>"
      ]
     },
     "metadata": {},
     "output_type": "display_data"
    }
   ],
   "source": [
    "x_val = ['SMS recieved','SMS not recieved']\n",
    "colors = ['green','r']\n",
    "\n",
    "bar_chart(x_val,[prop_rec,prop_not], colors,'No-show by recieveing SMS', 'SMS recieved', \"No-show proportion\");"
   ]
  },
  {
   "cell_type": "markdown",
   "id": "99d952b9",
   "metadata": {},
   "source": [
    "As the bar Graph shows that the patients who didnt recieves a SMS are more proportion of not showing to the appointment."
   ]
  },
  {
   "cell_type": "markdown",
   "id": "27379ba8",
   "metadata": {},
   "source": [
    "# Conclusion <a id=\"Conclusion\"></a>\n",
    "\n",
    "At the end we can say that there could be several of factors that could influnce the patient for attending their appointment: \n",
    " 1. The age of the patient \n",
    " 2. The scholarship of a patient \n",
    " 3. The SMS message \n",
    " \n",
    "And probably there are more factores."
   ]
  },
  {
   "cell_type": "markdown",
   "id": "28cec478",
   "metadata": {},
   "source": [
    "# limitation \n",
    "\n",
    "1. The Dataset provides more Categorial data than nomerical data.\n",
    "2. There was a inconsistent data found of a negative age value."
   ]
  },
  {
   "cell_type": "markdown",
   "id": "42f25e64",
   "metadata": {},
   "source": [
    "## Resources \n",
    "\n",
    "1. [Markdown guide](https://www.markdownguide.org/basic-syntax/)\n",
    "2. [Matplotlib style](https://www.dunderdata.com/blog/view-all-available-matplotlib-styles)"
   ]
  }
 ],
 "metadata": {
  "kernelspec": {
   "display_name": "Python 3 (ipykernel)",
   "language": "python",
   "name": "python3"
  },
  "language_info": {
   "codemirror_mode": {
    "name": "ipython",
    "version": 3
   },
   "file_extension": ".py",
   "mimetype": "text/x-python",
   "name": "python",
   "nbconvert_exporter": "python",
   "pygments_lexer": "ipython3",
   "version": "3.9.12"
  }
 },
 "nbformat": 4,
 "nbformat_minor": 5
}
